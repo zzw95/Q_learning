{
 "cells": [
  {
   "cell_type": "code",
   "execution_count": 1,
   "metadata": {
    "collapsed": true
   },
   "outputs": [],
   "source": [
    "import tensorflow as tf\n",
    "import numpy as np"
   ]
  },
  {
   "cell_type": "code",
   "execution_count": 2,
   "metadata": {
    "collapsed": true
   },
   "outputs": [],
   "source": [
    "bandits = [0.2, 0, -0.2, -5]\n",
    "num_bandits = len(bandits)\n",
    "def pullBandit(bandit):\n",
    "    result = np.random.randn(1)    #正态分布\n",
    "    if result > bandit:\n",
    "        return 1\n",
    "    else:\n",
    "        return -1"
   ]
  },
  {
   "cell_type": "code",
   "execution_count": 3,
   "metadata": {
    "collapsed": true
   },
   "outputs": [],
   "source": [
    "tf.reset_default_graph()\n",
    "\n",
    "weights = tf.Variable(tf.ones([num_bandits]))\n",
    "chosen_action = tf.argmax(weights, 0)\n",
    "\n",
    "reward_ = tf.placeholder(dtype=tf.float32)\n",
    "action_ = tf.placeholder(dtype=tf.int32)\n",
    "responsible_weight = weights[action_]\n",
    "loss = -(tf.log(responsible_weight) * reward_)\n",
    "opt = tf.train.GradientDescentOptimizer(learning_rate=0.001).minimize(loss)"
   ]
  },
  {
   "cell_type": "code",
   "execution_count": 4,
   "metadata": {
    "collapsed": false
   },
   "outputs": [
    {
     "name": "stdout",
     "output_type": "stream",
     "text": [
      "Episode 1, Running reward for the 4 bandits: [ 1.  0.  0.  0.]\n",
      "Episode 51, Running reward for the 4 bandits: [ -3.  -1.  -1.  30.]\n",
      "Episode 101, Running reward for the 4 bandits: [ -2.   1.  -2.  74.]\n",
      "Episode 151, Running reward for the 4 bandits: [  -2.    1.   -2.  124.]\n",
      "Episode 201, Running reward for the 4 bandits: [  -1.    1.   -1.  172.]\n",
      "Episode 251, Running reward for the 4 bandits: [   0.    1.   -2.  216.]\n",
      "Episode 301, Running reward for the 4 bandits: [  -5.    2.   -2.  258.]\n",
      "Episode 351, Running reward for the 4 bandits: [  -7.    2.    0.  304.]\n",
      "Episode 401, Running reward for the 4 bandits: [  -9.    3.   -1.  350.]\n",
      "Episode 451, Running reward for the 4 bandits: [  -9.    4.   -1.  399.]\n",
      "Episode 501, Running reward for the 4 bandits: [  -8.    5.    1.  443.]\n",
      "Episode 551, Running reward for the 4 bandits: [  -7.    6.    1.  491.]\n",
      "Episode 601, Running reward for the 4 bandits: [  -7.    3.    2.  535.]\n",
      "Episode 651, Running reward for the 4 bandits: [  -6.    2.    2.  581.]\n",
      "Episode 701, Running reward for the 4 bandits: [  -7.    2.    2.  626.]\n",
      "Episode 751, Running reward for the 4 bandits: [  -8.    2.    4.  671.]\n",
      "Episode 801, Running reward for the 4 bandits: [  -8.    2.    4.  717.]\n",
      "Episode 851, Running reward for the 4 bandits: [  -9.    2.    4.  766.]\n",
      "Episode 901, Running reward for the 4 bandits: [  -7.    1.    4.  809.]\n",
      "Episode 951, Running reward for the 4 bandits: [  -5.    2.    2.  852.]\n",
      "[ 0.99501014  1.00201297  1.00400615  1.6716789 ]\n",
      "The agent thinks bandit 4 is the most promising ......\n"
     ]
    }
   ],
   "source": [
    "total_episodes = 1000\n",
    "total_reward = np.zeros(num_bandits)\n",
    "\n",
    "e = 0.1\n",
    "\n",
    "with tf.Session() as sess:\n",
    "    sess.run(tf.global_variables_initializer())\n",
    "    for i in range(total_episodes):\n",
    "        if np.random.rand(1) < e:\n",
    "            action = np.random.randint(num_bandits)\n",
    "        else:\n",
    "            action = sess.run(chosen_action)\n",
    "        reward = pullBandit(bandits[action])\n",
    "        \n",
    "        resp, ww, _ = sess.run([responsible_weight, weights, opt], \n",
    "                               feed_dict={action_:action, reward_:reward}) \n",
    "        \n",
    "        total_reward[action] += reward\n",
    "        if i% 50==0:\n",
    "            print(\"Episode {}, Running reward for the {} bandits: {}\".format(i+1, num_bandits, total_reward))\n",
    "            \n",
    "print(ww)\n",
    "print(\"The agent thinks bandit {} is the most promising ......\".format(np.argmax(ww)+1))"
   ]
  },
  {
   "cell_type": "code",
   "execution_count": null,
   "metadata": {
    "collapsed": true
   },
   "outputs": [],
   "source": []
  }
 ],
 "metadata": {
  "anaconda-cloud": {},
  "kernelspec": {
   "display_name": "Python [conda root]",
   "language": "python",
   "name": "conda-root-py"
  },
  "language_info": {
   "codemirror_mode": {
    "name": "ipython",
    "version": 3
   },
   "file_extension": ".py",
   "mimetype": "text/x-python",
   "name": "python",
   "nbconvert_exporter": "python",
   "pygments_lexer": "ipython3",
   "version": "3.5.2"
  }
 },
 "nbformat": 4,
 "nbformat_minor": 1
}
